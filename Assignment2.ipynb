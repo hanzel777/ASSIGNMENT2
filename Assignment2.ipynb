{
 "cells": [
  {
   "cell_type": "code",
   "execution_count": 3,
   "metadata": {},
   "outputs": [
    {
     "name": "stdout",
     "output_type": "stream",
     "text": [
      "       Kcal(morning)  Kcal(lunch)  Kcal(Dinner)\n",
      "Month                                          \n",
      "09        627.714286  1011.142857    988.857143\n",
      "10        664.150000  1069.850000    925.800000\n",
      "11        607.142857  1005.095238    951.809524\n",
      "12        628.956522  1025.666667    968.238095\n",
      "       Protein(morning)  Protein(lunch)  Protein(dinner)\n",
      "Month                                                   \n",
      "09            25.000000       37.142857        40.142857\n",
      "10            26.400000       38.350000        39.850000\n",
      "11            26.333333       33.666667        38.904762\n",
      "12            21.478261       34.761905        42.476190\n"
     ]
    },
    {
     "data": {
      "text/plain": [
       "Text(0, 0.5, 'Protein')"
      ]
     },
     "execution_count": 3,
     "metadata": {},
     "output_type": "execute_result"
    },
    {
     "data": {
      "image/png": "[encoded data removed]",
      "text/plain": [
       "<Figure size 432x288 with 2 Axes>"
      ]
     },
     "metadata": {
      "needs_background": "light"
     },
     "output_type": "display_data"
    }
   ],
   "source": [
    "from bs4 import BeautifulSoup\n",
    "import requests\n",
    "import re\n",
    "import pandas as pd\n",
    "import matplotlib.pyplot as plt\n",
    "from matplotlib import rc\n",
    "\n",
    "rc('font', family='NanumGothic')\n",
    "\n",
    "req1 = requests.get('https://dorm.chungbuk.ac.kr/home/sub.php?menukey=20041&cur_day=2020-09-24&type=1')\n",
    "req2 = requests.get('https://dorm.chungbuk.ac.kr/home/sub.php?menukey=20041&cur_day=2020-10-01&type=1')\n",
    "req3 = requests.get('https://dorm.chungbuk.ac.kr/home/sub.php?menukey=20041&cur_day=2020-10-08&type=1')\n",
    "req4 = requests.get('https://dorm.chungbuk.ac.kr/home/sub.php?menukey=20041&cur_day=2020-10-15&type=1')\n",
    "req5 = requests.get('https://dorm.chungbuk.ac.kr/home/sub.php?menukey=20041&cur_day=2020-10-22&type=1')\n",
    "req6 = requests.get('https://dorm.chungbuk.ac.kr/home/sub.php?menukey=20041&cur_day=2020-10-29&type=1')\n",
    "req7 = requests.get('https://dorm.chungbuk.ac.kr/home/sub.php?menukey=20041&cur_day=2020-11-05&type=1')\n",
    "req8 = requests.get('https://dorm.chungbuk.ac.kr/home/sub.php?menukey=20041&cur_day=2020-11-12&type=1')\n",
    "req9 = requests.get('https://dorm.chungbuk.ac.kr/home/sub.php?menukey=20041&cur_day=2020-11-19&type=1')\n",
    "req10 = requests.get('https://dorm.chungbuk.ac.kr/home/sub.php?menukey=20041&cur_day=2020-11-26&type=1')\n",
    "req11 = requests.get('https://dorm.chungbuk.ac.kr/home/sub.php?menukey=20041&cur_day=2020-12-03&type=1')\n",
    "req12 = requests.get('https://dorm.chungbuk.ac.kr/home/sub.php?menukey=20041&cur_day=2020-12-10&type=1')\n",
    "req13 = requests.get('https://dorm.chungbuk.ac.kr/home/sub.php?menukey=20041&cur_day=2020-12-17&type=1')\n",
    "req14 = requests.get('https://dorm.chungbuk.ac.kr/home/sub.php?menukey=20041&cur_day=2020-12-24&type=1')\n",
    "req15 = requests.get('https://dorm.chungbuk.ac.kr/home/sub.php?menukey=20041&cur_day=2020-12-31&type=1')\n",
    "\n",
    "reqs = [req1, req2, req3, req4, req5, req6, req7, req8, req9, req10, req11, req12, req13, req14, req15]\n",
    "\n",
    "dataframe = []\n",
    "\n",
    "for i in range(15):\n",
    "    html = reqs[i].text\n",
    "    soup = BeautifulSoup(html, 'html.parser')\n",
    "    titles = soup.find_all('tr', {'id':re.compile('\\d{4}-\\d{2}-\\d{2}')})\n",
    "    for content in titles:\n",
    "        data = []\n",
    "        cnt = 0\n",
    "        for child in content.select('td'):\n",
    "            temp = (BeautifulSoup(str(child).replace('<br/>', ' ')).text)\n",
    "            if temp == ' ':\n",
    "                continue\n",
    "            if cnt == 0:\n",
    "                data.append(temp.split()[0])\n",
    "                date = temp.split()[1]\n",
    "                year = date.split('-')[0]\n",
    "                month = date.split('-')[1]\n",
    "                day = date.split('-')[2]\n",
    "                data.append(year)\n",
    "                data.append(month)\n",
    "                data.append(day)\n",
    "                cnt = cnt + 1       \n",
    "            else:\n",
    "                menu = temp.split('에너지:')[0]\n",
    "                menu = menu.lstrip()\n",
    "                menu = menu.rstrip()\n",
    "                cal_and_protein = temp.split('에너지:')[1]\n",
    "                cal_and_protein = cal_and_protein.replace(' ','')\n",
    "                cal = cal_and_protein.split('단백질:')[0]\n",
    "                protein = cal_and_protein.split('단백질:')[1]\n",
    "                data.append(menu.replace(' ', '/'))\n",
    "                data.append(int(cal.replace('Kcal', '')))\n",
    "                data.append(int(protein.replace('g', '')))\n",
    "        dataframe.append(data)\n",
    "        \n",
    "\n",
    "df = pd.DataFrame(dataframe, columns = ['Day of the Week','Year', 'Month', 'Day', 'Breckfast', 'Kcal(morning)', 'Protein(morning)', 'Lunch', 'Kcal(lunch)', 'Protein(lunch)', 'Dinner', 'Kcal(Dinner)', 'Protein(dinner)'])\n",
    "Kcal = df.groupby('Month')[['Kcal(morning)', 'Kcal(lunch)', 'Kcal(Dinner)']].mean()\n",
    "Protein = df.groupby('Month')[['Protein(morning)', 'Protein(lunch)', 'Protein(dinner)']].mean()\n",
    "print(Kcal)\n",
    "print(Protein)\n",
    "fig = plt.figure()\n",
    "axes1 = fig.add_subplot(1,3,1)\n",
    "axes2 = fig.add_subplot(1,3,3)\n",
    "axes1.plot(Kcal)\n",
    "axes2.plot(Protein)\n",
    "fig.suptitle('Calories and Protein')\n",
    "\n",
    "axes1.set_title('How many calories?')\n",
    "axes1.set_xlabel('Month')\n",
    "axes1.set_ylabel('Kcal')\n",
    "\n",
    "axes2.set_title('How many protein?')\n",
    "axes2.set_xlabel('Month')\n",
    "axes2.set_ylabel('Protein')"
   ]
  },
  {
   "cell_type": "code",
   "execution_count": null,
   "metadata": {},
   "outputs": [],
   "source": []
  }
 ],
 "metadata": {
  "kernelspec": {
   "display_name": "Python 3",
   "language": "python",
   "name": "python3"
  },
  "language_info": {
   "codemirror_mode": {
    "name": "ipython",
    "version": 3
   },
   "file_extension": ".py",
   "mimetype": "text/x-python",
   "name": "python",
   "nbconvert_exporter": "python",
   "pygments_lexer": "ipython3",
   "version": "3.8.3"
  }
 },
 "nbformat": 4,
 "nbformat_minor": 4
}
